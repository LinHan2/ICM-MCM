{
 "cells": [
  {
   "cell_type": "code",
   "execution_count": 1,
   "metadata": {},
   "outputs": [
    {
     "name": "stdout",
     "output_type": "stream",
     "text": [
      "最优点: [3.21387609e-06 3.21387609e-06]\n",
      "最优值: 2.065799902469529e-11\n"
     ]
    }
   ],
   "source": [
    "import numpy as np\n",
    "\n",
    "def gradient_descent(func, grad_func, initial_point, learning_rate=0.01, max_iter=1000, tolerance=1e-6):\n",
    "    \"\"\"\n",
    "    使用梯度下降法求解函数最小值\n",
    "\n",
    "    参数:\n",
    "    func: 目标函数\n",
    "    grad_func: 目标函数的梯度\n",
    "    initial_point: 初始点\n",
    "    learning_rate: 学习率\n",
    "    max_iter: 最大迭代次数\n",
    "    tolerance: 收敛容差\n",
    "\n",
    "    返回:\n",
    "    最优点和对应的函数值\n",
    "    \"\"\"\n",
    "    point = np.array(initial_point)\n",
    "    for i in range(max_iter):\n",
    "        grad = np.array(grad_func(point))\n",
    "        new_point = point - learning_rate * grad\n",
    "        if np.linalg.norm(new_point - point) < tolerance:\n",
    "            break\n",
    "        point = new_point\n",
    "    return point, func(point)\n",
    "\n",
    "# 示例使用\n",
    "if __name__ == \"__main__\":\n",
    "    # 定义目标函数和梯度\n",
    "    def func(x):\n",
    "        return x[0]**2 + x[1]**2\n",
    "\n",
    "    def grad_func(x):\n",
    "        return [2*x[0], 2*x[1]]\n",
    "\n",
    "    initial_point = [10, 10]\n",
    "    learning_rate = 0.1\n",
    "    max_iter = 1000\n",
    "    tolerance = 1e-6\n",
    "\n",
    "    optimal_point, optimal_value = gradient_descent(func, grad_func, initial_point, learning_rate, max_iter, tolerance)\n",
    "    print(f\"最优点: {optimal_point}\")\n",
    "    print(f\"最优值: {optimal_value}\")"
   ]
  }
 ],
 "metadata": {
  "kernelspec": {
   "display_name": "torch",
   "language": "python",
   "name": "python3"
  },
  "language_info": {
   "codemirror_mode": {
    "name": "ipython",
    "version": 3
   },
   "file_extension": ".py",
   "mimetype": "text/x-python",
   "name": "python",
   "nbconvert_exporter": "python",
   "pygments_lexer": "ipython3",
   "version": "3.12.7"
  }
 },
 "nbformat": 4,
 "nbformat_minor": 2
}
